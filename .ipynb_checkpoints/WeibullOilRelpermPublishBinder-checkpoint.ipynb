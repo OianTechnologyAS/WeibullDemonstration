{
 "cells": [
  {
   "cell_type": "markdown",
   "metadata": {},
   "source": [
    "### Demonstration of Weibull 2-parameter formulation for oil-water relative permeability\n",
    "\n",
    "#### &copy; ResBridge AS\n",
    "\n",
    "Styling:\n",
    " - https://holoviews.org/user_guide/Plotting_with_Bokeh.html\n",
    " - https://docs.bokeh.org/en/2.4.1/docs/reference/colors.html"
   ]
  },
  {
   "cell_type": "code",
   "execution_count": 3,
   "metadata": {},
   "outputs": [
    {
     "name": "stderr",
     "output_type": "stream",
     "text": [
      "WARNING:param.notebook_extension: plotly could not be imported, ensure plotly is installed.\n",
      "WARNING:param.notebook_extension: Holoviews plotly extension could not be imported, it raised the following exception: ModuleNotFoundError('No module named 'plotly'')\n"
     ]
    },
    {
     "ename": "ImportError",
     "evalue": "None of the backends could be imported",
     "output_type": "error",
     "traceback": [
      "\u001b[1;31m---------------------------------------------------------------------------\u001b[0m",
      "\u001b[1;31mImportError\u001b[0m                               Traceback (most recent call last)",
      "\u001b[1;32m~\\AppData\\Local\\Temp/ipykernel_27812/4191724643.py\u001b[0m in \u001b[0;36m<module>\u001b[1;34m\u001b[0m\n\u001b[0;32m      5\u001b[0m \u001b[1;32mimport\u001b[0m \u001b[0mnumpy\u001b[0m \u001b[1;32mas\u001b[0m \u001b[0mnp\u001b[0m\u001b[1;33m\u001b[0m\u001b[1;33m\u001b[0m\u001b[0m\n\u001b[0;32m      6\u001b[0m \u001b[1;33m\u001b[0m\u001b[0m\n\u001b[1;32m----> 7\u001b[1;33m \u001b[0mhv\u001b[0m\u001b[1;33m.\u001b[0m\u001b[0mextension\u001b[0m\u001b[1;33m(\u001b[0m\u001b[1;34m'plotly'\u001b[0m\u001b[1;33m)\u001b[0m\u001b[1;33m\u001b[0m\u001b[1;33m\u001b[0m\u001b[0m\n\u001b[0m\u001b[0;32m      8\u001b[0m \u001b[1;33m\u001b[0m\u001b[0m\n\u001b[0;32m      9\u001b[0m \u001b[1;32mdef\u001b[0m \u001b[0mnormalize\u001b[0m\u001b[1;33m(\u001b[0m\u001b[0mSw\u001b[0m\u001b[1;33m)\u001b[0m\u001b[1;33m:\u001b[0m\u001b[1;33m\u001b[0m\u001b[1;33m\u001b[0m\u001b[0m\n",
      "\u001b[1;32m~\\anaconda3\\envs\\py38_binder\\lib\\site-packages\\param\\parameterized.py\u001b[0m in \u001b[0;36m__new__\u001b[1;34m(class_, *args, **params)\u001b[0m\n\u001b[0;32m   3629\u001b[0m         \u001b[0minst\u001b[0m \u001b[1;33m=\u001b[0m \u001b[0mclass_\u001b[0m\u001b[1;33m.\u001b[0m\u001b[0minstance\u001b[0m\u001b[1;33m(\u001b[0m\u001b[1;33m)\u001b[0m\u001b[1;33m\u001b[0m\u001b[1;33m\u001b[0m\u001b[0m\n\u001b[0;32m   3630\u001b[0m         \u001b[0minst\u001b[0m\u001b[1;33m.\u001b[0m\u001b[0mparam\u001b[0m\u001b[1;33m.\u001b[0m\u001b[0m_set_name\u001b[0m\u001b[1;33m(\u001b[0m\u001b[0mclass_\u001b[0m\u001b[1;33m.\u001b[0m\u001b[0m__name__\u001b[0m\u001b[1;33m)\u001b[0m\u001b[1;33m\u001b[0m\u001b[1;33m\u001b[0m\u001b[0m\n\u001b[1;32m-> 3631\u001b[1;33m         \u001b[1;32mreturn\u001b[0m \u001b[0minst\u001b[0m\u001b[1;33m.\u001b[0m\u001b[0m__call__\u001b[0m\u001b[1;33m(\u001b[0m\u001b[1;33m*\u001b[0m\u001b[0margs\u001b[0m\u001b[1;33m,\u001b[0m\u001b[1;33m**\u001b[0m\u001b[0mparams\u001b[0m\u001b[1;33m)\u001b[0m\u001b[1;33m\u001b[0m\u001b[1;33m\u001b[0m\u001b[0m\n\u001b[0m\u001b[0;32m   3632\u001b[0m \u001b[1;33m\u001b[0m\u001b[0m\n\u001b[0;32m   3633\u001b[0m     \u001b[1;32mdef\u001b[0m \u001b[0m__call__\u001b[0m\u001b[1;33m(\u001b[0m\u001b[0mself\u001b[0m\u001b[1;33m,\u001b[0m\u001b[1;33m*\u001b[0m\u001b[0margs\u001b[0m\u001b[1;33m,\u001b[0m\u001b[1;33m**\u001b[0m\u001b[0mkw\u001b[0m\u001b[1;33m)\u001b[0m\u001b[1;33m:\u001b[0m\u001b[1;33m\u001b[0m\u001b[1;33m\u001b[0m\u001b[0m\n",
      "\u001b[1;32m~\\anaconda3\\envs\\py38_binder\\lib\\site-packages\\holoviews\\ipython\\__init__.py\u001b[0m in \u001b[0;36m__call__\u001b[1;34m(self, *args, **params)\u001b[0m\n\u001b[0;32m    114\u001b[0m     \u001b[1;32mdef\u001b[0m \u001b[0m__call__\u001b[0m\u001b[1;33m(\u001b[0m\u001b[0mself\u001b[0m\u001b[1;33m,\u001b[0m \u001b[1;33m*\u001b[0m\u001b[0margs\u001b[0m\u001b[1;33m,\u001b[0m \u001b[1;33m**\u001b[0m\u001b[0mparams\u001b[0m\u001b[1;33m)\u001b[0m\u001b[1;33m:\u001b[0m\u001b[1;33m\u001b[0m\u001b[1;33m\u001b[0m\u001b[0m\n\u001b[0;32m    115\u001b[0m         \u001b[0mcomms\u001b[0m \u001b[1;33m=\u001b[0m \u001b[0mparams\u001b[0m\u001b[1;33m.\u001b[0m\u001b[0mpop\u001b[0m\u001b[1;33m(\u001b[0m\u001b[1;34m'comms'\u001b[0m\u001b[1;33m,\u001b[0m \u001b[1;32mNone\u001b[0m\u001b[1;33m)\u001b[0m\u001b[1;33m\u001b[0m\u001b[1;33m\u001b[0m\u001b[0m\n\u001b[1;32m--> 116\u001b[1;33m         \u001b[0msuper\u001b[0m\u001b[1;33m(\u001b[0m\u001b[0mnotebook_extension\u001b[0m\u001b[1;33m,\u001b[0m \u001b[0mself\u001b[0m\u001b[1;33m)\u001b[0m\u001b[1;33m.\u001b[0m\u001b[0m__call__\u001b[0m\u001b[1;33m(\u001b[0m\u001b[1;33m*\u001b[0m\u001b[0margs\u001b[0m\u001b[1;33m,\u001b[0m \u001b[1;33m**\u001b[0m\u001b[0mparams\u001b[0m\u001b[1;33m)\u001b[0m\u001b[1;33m\u001b[0m\u001b[1;33m\u001b[0m\u001b[0m\n\u001b[0m\u001b[0;32m    117\u001b[0m         \u001b[1;31m# Abort if IPython not found\u001b[0m\u001b[1;33m\u001b[0m\u001b[1;33m\u001b[0m\u001b[1;33m\u001b[0m\u001b[0m\n\u001b[0;32m    118\u001b[0m         \u001b[1;32mtry\u001b[0m\u001b[1;33m:\u001b[0m\u001b[1;33m\u001b[0m\u001b[1;33m\u001b[0m\u001b[0m\n",
      "\u001b[1;32m~\\anaconda3\\envs\\py38_binder\\lib\\site-packages\\holoviews\\util\\__init__.py\u001b[0m in \u001b[0;36m__call__\u001b[1;34m(self, *args, **params)\u001b[0m\n\u001b[0;32m    748\u001b[0m \u001b[1;33m\u001b[0m\u001b[0m\n\u001b[0;32m    749\u001b[0m         \u001b[1;32mif\u001b[0m \u001b[0mselected_backend\u001b[0m \u001b[1;32mis\u001b[0m \u001b[1;32mNone\u001b[0m\u001b[1;33m:\u001b[0m\u001b[1;33m\u001b[0m\u001b[1;33m\u001b[0m\u001b[0m\n\u001b[1;32m--> 750\u001b[1;33m             \u001b[1;32mraise\u001b[0m \u001b[0mImportError\u001b[0m\u001b[1;33m(\u001b[0m\u001b[1;34m'None of the backends could be imported'\u001b[0m\u001b[1;33m)\u001b[0m\u001b[1;33m\u001b[0m\u001b[1;33m\u001b[0m\u001b[0m\n\u001b[0m\u001b[0;32m    751\u001b[0m         \u001b[0mStore\u001b[0m\u001b[1;33m.\u001b[0m\u001b[0mset_current_backend\u001b[0m\u001b[1;33m(\u001b[0m\u001b[0mselected_backend\u001b[0m\u001b[1;33m)\u001b[0m\u001b[1;33m\u001b[0m\u001b[1;33m\u001b[0m\u001b[0m\n\u001b[0;32m    752\u001b[0m \u001b[1;33m\u001b[0m\u001b[0m\n",
      "\u001b[1;31mImportError\u001b[0m: None of the backends could be imported"
     ]
    }
   ],
   "source": [
    "import pandas as pd\n",
    "from pathlib import Path\n",
    "import holoviews as hv\n",
    "from holoviews import opts\n",
    "import numpy as np\n",
    "\n",
    "hv.extension('plotly')\n",
    "\n",
    "def normalize(Sw):\n",
    "    return (Sw-Sw.min())/(1.0 - Sw.min())\n",
    "\n",
    "def get_LET_df(file_path):\n",
    "    df = pd.read_csv(file_path, header=None)\n",
    "    df.columns=['Sw', 'Kro']\n",
    "    df['Swn'] = normalize(df.Sw)\n",
    "    \n",
    "    return df\n",
    "\n",
    "low_path =  Path('data/LET_low.csv')\n",
    "base_path = Path('data/LET_base.csv')\n",
    "high_path = Path('data/LET_high.csv')\n",
    "\n",
    "df_low = get_LET_df(low_path)\n",
    "df_base = get_LET_df(base_path)\n",
    "df_high = get_LET_df(high_path)\n",
    "\n",
    "# create LET curves\n",
    "LET_curves = (hv.Curve(df_low, 'Swn', 'Kro').opts(color='g') * \n",
    "              hv.Curve(df_base, 'Swn', 'Kro').opts(color='r') * \n",
    "              hv.Curve(df_high, 'Swn', 'Kro').opts(color='b'))\n",
    "\n",
    "LET_curves = (hv.Scatter(df_low, 'Swn', 'Kro').opts(color='g') * \n",
    "              hv.Scatter(df_base, 'Swn', 'Kro').opts(color='r') * \n",
    "              hv.Scatter(df_high, 'Swn', 'Kro').opts(color='b'))\n",
    "\n",
    "# create interactive Weibull plot\n",
    "def kro_weibull(a, b):\n",
    "    n=100\n",
    "    Sw_vals = [(1.0/(n-1))* i for i in range(n)]\n",
    "    \n",
    "    return (LET_curves *\n",
    "            hv.Curve((Sw_vals, [(1-np.exp(-b*np.power((1-Sw), a)))/(1-np.exp(-b*np.power(1, a))) \n",
    "                                for Sw in Sw_vals])).opts(color='k') \n",
    "           )\n",
    "\n",
    "dmap = hv.DynamicMap(kro_weibull, kdims=['a', 'b']).opts(gridstyle={'minor_grid_line_color':'whitesmoke'}, \n",
    "                                                         show_grid=True, width=600, height=400)\n",
    "dmap.redim.range(a=(0.1, 20), b=(0.1, 20)).redim.default(a=9, b=0.1)"
   ]
  }
 ],
 "metadata": {
  "kernelspec": {
   "display_name": "Python 3 (ipykernel)",
   "language": "python",
   "name": "python3"
  },
  "language_info": {
   "codemirror_mode": {
    "name": "ipython",
    "version": 3
   },
   "file_extension": ".py",
   "mimetype": "text/x-python",
   "name": "python",
   "nbconvert_exporter": "python",
   "pygments_lexer": "ipython3",
   "version": "3.8.12"
  }
 },
 "nbformat": 4,
 "nbformat_minor": 4
}
